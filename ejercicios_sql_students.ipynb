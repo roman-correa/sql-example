{
 "cells": [
  {
   "cell_type": "markdown",
   "metadata": {
    "editable": true,
    "slideshow": {
     "slide_type": ""
    },
    "tags": []
   },
   "source": [
    "# Selección básica\n",
    "- Obtener todos los productos cuyo precio sea mayor a $200"
   ]
  },
  {
   "cell_type": "code",
   "execution_count": 3,
   "metadata": {
    "editable": true,
    "slideshow": {
     "slide_type": ""
    },
    "tags": [
     "solution",
     "output-show"
    ]
   },
   "outputs": [
    {
     "name": "stdout",
     "output_type": "stream",
     "text": [
      "+-----------+----------+---------+\n",
      "| nombre    |   precio |   stock |\n",
      "|-----------+----------+---------|\n",
      "| Laptop    |     1200 |      10 |\n",
      "| Teléfono  |      800 |      15 |\n",
      "| Tablet    |      350 |       8 |\n",
      "| Monitor   |      450 |       5 |\n",
      "| Impresora |      250 |       7 |\n",
      "+-----------+----------+---------+\n"
     ]
    }
   ],
   "source": [
    "from consultas import  show_query\n",
    "show_query(\n",
    "    \"\"\"\n",
    "    SELECT nombre, precio,stock\n",
    "    FROM productos\n",
    "    WHERE precio > 200\n",
    "\n",
    "    \"\"\"\n",
    ")\n"
   ]
  },
  {
   "cell_type": "markdown",
   "id": "b5e44168",
   "metadata": {
    "editable": false
   },
   "source": [
    "<span style=\"color: gray;\">## Ejemplo del output ##</span>\n",
    "\n",
    "```\n",
    "+------+-----------+----------+---------+\n",
    "|   id | nombre    |   precio |   stock |\n",
    "|------+-----------+----------+---------|\n",
    "|    1 | Laptop    |     1200 |      10 |\n",
    "|    2 | Teléfono  |      800 |      15 |\n",
    "|    5 | Monitor   |      450 |       5 |\n",
    "|    4 | Tablet    |      350 |       8 |\n",
    "|    8 | Impresora |      250 |       7 |\n",
    "+------+-----------+----------+---------+\n",
    "\n",
    "```\n",
    "\n"
   ]
  },
  {
   "cell_type": "markdown",
   "metadata": {},
   "source": [
    "# Agregación simple\n",
    "* Calcular el precio promedio, máximo y mínimo  de todos los productos"
   ]
  },
  {
   "cell_type": "code",
   "execution_count": 2,
   "metadata": {
    "editable": true,
    "slideshow": {
     "slide_type": ""
    },
    "tags": [
     "solution",
     "output-show"
    ]
   },
   "outputs": [],
   "source": []
  },
  {
   "cell_type": "markdown",
   "id": "c184a66e",
   "metadata": {
    "editable": false
   },
   "source": [
    "<span style=\"color: gray;\">## Ejemplo del output ##</span>\n",
    "\n",
    "```\n",
    "+-------------------+-------------------+-----------------+-----------------+\n",
    "|   total_productos |   precio_promedio |   precio_minimo |   precio_maximo |\n",
    "|-------------------+-------------------+-----------------+-----------------|\n",
    "|                10 |             349.5 |              45 |            1200 |\n",
    "+-------------------+-------------------+-----------------+-----------------+\n",
    "\n",
    "```\n",
    "\n"
   ]
  },
  {
   "cell_type": "markdown",
   "metadata": {},
   "source": [
    "# Filtrado con múltiples condiciones\n",
    "\n",
    "- Objetivo: Encontrar productos con stock bajo (menos de 10) y precio superior a $100"
   ]
  },
  {
   "cell_type": "code",
   "execution_count": 3,
   "metadata": {
    "editable": true,
    "slideshow": {
     "slide_type": ""
    },
    "tags": [
     "solution",
     "output-show"
    ]
   },
   "outputs": [],
   "source": []
  },
  {
   "cell_type": "markdown",
   "id": "97f5218f",
   "metadata": {
    "editable": false
   },
   "source": [
    "<span style=\"color: gray;\">## Ejemplo del output ##</span>\n",
    "\n",
    "```\n",
    "+-----------+---------------------------+----------+---------+\n",
    "| nombre    | descripcion               |   precio |   stock |\n",
    "|-----------+---------------------------+----------+---------|\n",
    "| Monitor   | Monitor 4K de 27 pulgadas |      450 |       5 |\n",
    "| Impresora | Impresora multifuncional  |      250 |       7 |\n",
    "| Tablet    | Tablet de 10 pulgadas     |      350 |       8 |\n",
    "+-----------+---------------------------+----------+---------+\n",
    "\n",
    "```\n",
    "\n"
   ]
  },
  {
   "cell_type": "markdown",
   "metadata": {},
   "source": [
    "# Uso de búsqueda\n",
    "- Encontrar todos los productos cuyo nombre o descripción contenga la palabra \"inalámbrico\""
   ]
  },
  {
   "cell_type": "code",
   "execution_count": 4,
   "metadata": {
    "editable": true,
    "slideshow": {
     "slide_type": ""
    },
    "tags": [
     "solution",
     "output-show"
    ]
   },
   "outputs": [],
   "source": []
  },
  {
   "cell_type": "markdown",
   "id": "4e95abde",
   "metadata": {
    "editable": false
   },
   "source": [
    "<span style=\"color: gray;\">## Ejemplo del output ##</span>\n",
    "\n",
    "```\n",
    "+------+-------------+------------------------------+----------+\n",
    "|   id | nombre      | descripcion                  |   precio |\n",
    "|------+-------------+------------------------------+----------|\n",
    "|    3 | Auriculares | Auriculares inalámbricos     |      120 |\n",
    "|    7 | Mouse       | Mouse inalámbrico ergonómico |       45 |\n",
    "+------+-------------+------------------------------+----------+\n",
    "\n",
    "```\n",
    "\n"
   ]
  },
  {
   "cell_type": "markdown",
   "metadata": {},
   "source": [
    "# Join básico entre dos tablas\n",
    "- Listar todas las órdenes con el nombre del cliente que las realizó"
   ]
  },
  {
   "cell_type": "code",
   "execution_count": 5,
   "metadata": {
    "editable": true,
    "slideshow": {
     "slide_type": ""
    },
    "tags": [
     "solution",
     "output-show"
    ]
   },
   "outputs": [],
   "source": []
  },
  {
   "cell_type": "markdown",
   "id": "e3b3b6fd",
   "metadata": {
    "editable": false
   },
   "source": [
    "<span style=\"color: gray;\">## Ejemplo del output ##</span>\n",
    "\n",
    "```\n",
    "+------------+--------------+----------------------------+------------+---------+\n",
    "|   orden_id | cliente      | fecha_orden                | estado     |   total |\n",
    "|------------+--------------+----------------------------+------------+---------|\n",
    "|         10 | María García | 2025-04-04 02:35:18.939772 | completada |     580 |\n",
    "|          9 | Juan Pérez   | 2025-04-04 02:35:18.846692 | pendiente  |     150 |\n",
    "|          8 | Ana Martínez | 2025-04-04 02:35:18.754858 | enviada    |    1250 |\n",
    "|          7 | Carlos López | 2025-04-04 02:35:18.669393 | cancelada  |     195 |\n",
    "|          6 | Juan Pérez   | 2025-04-04 02:35:18.583011 | completada |     895 |\n",
    "|          5 | Ana Martínez | 2025-04-04 02:35:18.497786 | pendiente  |     330 |\n",
    "|          4 | María García | 2025-04-04 02:35:18.411591 | completada |     450 |\n",
    "|          3 | Carlos López | 2025-04-04 02:35:18.326422 | enviada    |     590 |\n",
    "|          2 | María García | 2025-04-04 02:35:18.240110 | pendiente  |     800 |\n",
    "|          1 | Juan Pérez   | 2025-04-04 02:35:18.153113 | completada |    1320 |\n",
    "+------------+--------------+----------------------------+------------+---------+\n",
    "\n",
    "```\n",
    "\n"
   ]
  },
  {
   "cell_type": "markdown",
   "metadata": {},
   "source": [
    "# Agrupación con GROUP BY\n",
    "- Calcular cuántas órdenes tiene cada cliente, su gasto total y el promedio"
   ]
  },
  {
   "cell_type": "code",
   "execution_count": 6,
   "metadata": {
    "editable": true,
    "slideshow": {
     "slide_type": ""
    },
    "tags": [
     "solution",
     "output-show"
    ]
   },
   "outputs": [],
   "source": []
  },
  {
   "cell_type": "markdown",
   "id": "366b94e4",
   "metadata": {
    "editable": false
   },
   "source": [
    "<span style=\"color: gray;\">## Ejemplo del output ##</span>\n",
    "\n",
    "```\n",
    "+--------------+-----------------+---------------+----------------------+\n",
    "| cliente      |   total_ordenes |   gasto_total |   promedio_por_orden |\n",
    "|--------------+-----------------+---------------+----------------------|\n",
    "| Juan Pérez   |               3 |          2365 |               788.33 |\n",
    "| María García |               3 |          1830 |               610    |\n",
    "| Ana Martínez |               2 |          1580 |               790    |\n",
    "| Carlos López |               2 |           785 |               392.5  |\n",
    "+--------------+-----------------+---------------+----------------------+\n",
    "\n",
    "```\n",
    "\n"
   ]
  },
  {
   "cell_type": "markdown",
   "metadata": {},
   "source": [
    "# Join entre tres tablas\n",
    "- Listar todos los productos comprados por un cliente específico (id=1)"
   ]
  },
  {
   "cell_type": "code",
   "execution_count": 7,
   "metadata": {
    "editable": true,
    "slideshow": {
     "slide_type": ""
    },
    "tags": [
     "solution",
     "output-show"
    ]
   },
   "outputs": [],
   "source": []
  },
  {
   "cell_type": "markdown",
   "id": "aa4c37b4",
   "metadata": {
    "editable": false
   },
   "source": [
    "<span style=\"color: gray;\">## Ejemplo del output ##</span>\n",
    "\n",
    "```\n",
    "+------------+-------------+----------------------+-----------------+\n",
    "| cliente    | producto    |   unidades_compradas |   total_gastado |\n",
    "|------------+-------------+----------------------+-----------------|\n",
    "| Juan Pérez | Cámara web  |                    2 |             130 |\n",
    "| Juan Pérez | Teclado     |                    2 |             170 |\n",
    "| Juan Pérez | Auriculares |                    1 |             120 |\n",
    "| Juan Pérez | Laptop      |                    1 |            1200 |\n",
    "| Juan Pérez | Teléfono    |                    1 |             800 |\n",
    "+------------+-------------+----------------------+-----------------+\n",
    "\n",
    "```\n",
    "\n"
   ]
  },
  {
   "cell_type": "markdown",
   "metadata": {},
   "source": [
    "# Subconsultas\n",
    "- Encontrar los productos que nunca han sido ordenados"
   ]
  },
  {
   "cell_type": "code",
   "execution_count": 8,
   "metadata": {
    "editable": true,
    "slideshow": {
     "slide_type": ""
    },
    "tags": [
     "solution",
     "output-show"
    ]
   },
   "outputs": [],
   "source": []
  },
  {
   "cell_type": "markdown",
   "id": "2292b22a",
   "metadata": {
    "editable": false
   },
   "source": [
    "<span style=\"color: gray;\">## Ejemplo del output ##</span>\n",
    "\n",
    "```\n",
    "+------+----------+----------+---------+\n",
    "| id   | nombre   | precio   | stock   |\n",
    "|------+----------+----------+---------|\n",
    "+------+----------+----------+---------+\n",
    "\n",
    "```\n",
    "\n"
   ]
  },
  {
   "cell_type": "markdown",
   "metadata": {},
   "source": [
    "# Múltiples joins y condiciones\n",
    "- Encontrar órdenes que contengan un producto específico (producto_id=1)"
   ]
  },
  {
   "cell_type": "code",
   "execution_count": 9,
   "metadata": {
    "tags": [
     "output-show",
     "solution"
    ]
   },
   "outputs": [],
   "source": []
  },
  {
   "cell_type": "markdown",
   "id": "08112adb",
   "metadata": {
    "editable": false
   },
   "source": [
    "<span style=\"color: gray;\">## Ejemplo del output ##</span>\n",
    "\n",
    "```\n",
    "+------------+--------------+----------------------------+------------+------------+-------------------+------------+\n",
    "|   orden_id | cliente      | fecha_orden                | estado     |   cantidad |   precio_unitario |   subtotal |\n",
    "|------------+--------------+----------------------------+------------+------------+-------------------+------------|\n",
    "|          8 | Ana Martínez | 2025-04-04 02:35:18.754858 | enviada    |          1 |              1200 |       1200 |\n",
    "|          1 | Juan Pérez   | 2025-04-04 02:35:18.153113 | completada |          1 |              1200 |       1200 |\n",
    "+------------+--------------+----------------------------+------------+------------+-------------------+------------+\n",
    "\n",
    "```\n",
    "\n"
   ]
  },
  {
   "cell_type": "markdown",
   "metadata": {},
   "source": [
    "# HAVING con agregación\n",
    "- Encontrar clientes que han gastado más de $1000 en total"
   ]
  },
  {
   "cell_type": "code",
   "execution_count": 10,
   "metadata": {
    "editable": true,
    "slideshow": {
     "slide_type": ""
    },
    "tags": [
     "solution",
     "output-show"
    ]
   },
   "outputs": [],
   "source": []
  },
  {
   "cell_type": "markdown",
   "id": "a7fd5346",
   "metadata": {
    "editable": false
   },
   "source": [
    "<span style=\"color: gray;\">## Ejemplo del output ##</span>\n",
    "\n",
    "```\n",
    "+------+--------------+------------------+-----------------+\n",
    "|   id | nombre       |   numero_ordenes |   total_gastado |\n",
    "|------+--------------+------------------+-----------------|\n",
    "|    1 | Juan Pérez   |                3 |            2365 |\n",
    "|    2 | María García |                3 |            1830 |\n",
    "|    4 | Ana Martínez |                2 |            1580 |\n",
    "+------+--------------+------------------+-----------------+\n",
    "\n",
    "```\n",
    "\n"
   ]
  },
  {
   "cell_type": "code",
   "execution_count": 3,
   "metadata": {
    "editable": true,
    "slideshow": {
     "slide_type": ""
    },
    "tags": [
     "solution"
    ]
   },
   "outputs": [],
   "source": []
  }
 ],
 "metadata": {
  "kernelspec": {
   "display_name": "venv",
   "language": "python",
   "name": "python3"
  },
  "language_info": {
   "codemirror_mode": {
    "name": "ipython",
    "version": 3
   },
   "file_extension": ".py",
   "mimetype": "text/x-python",
   "name": "python",
   "nbconvert_exporter": "python",
   "pygments_lexer": "ipython3",
   "version": "3.13.1"
  }
 },
 "nbformat": 4,
 "nbformat_minor": 4
}
